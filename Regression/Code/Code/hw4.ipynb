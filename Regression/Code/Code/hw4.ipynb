{
 "cells": [
  {
   "cell_type": "code",
   "execution_count": 2,
   "metadata": {},
   "outputs": [
    {
     "name": "stdout",
     "output_type": "stream",
     "text": [
      "Reading facebook dataset ...\n",
      "Train= (30712, 52)\n",
      "Kaggle= (10237, 52)\n"
     ]
    }
   ],
   "source": [
    "import numpy as np\n",
    "import kaggle\n",
    "import timeit\n",
    "\n",
    "from sklearn.metrics import accuracy_score\n",
    "from sklearn.datasets import load_svmlight_file\n",
    "\n",
    "\n",
    "# Read in train and test data\n",
    "\n",
    "def read_data_fb():\n",
    "\tprint('Reading facebook dataset ...')\n",
    "\ttrain_x = np.loadtxt('../../Data/data.csv', delimiter=',')\n",
    "\ttrain_y = np.loadtxt('../../Data/labels.csv', delimiter=',')\n",
    "\ttrain_kaggle = np.loadtxt('../../Data/kaggle_data.csv', delimiter=',')\n",
    "\n",
    "\treturn (train_x, train_y, train_kaggle)\n",
    "\n",
    "# Compute MAE\n",
    "def compute_error(y_hat, y):\n",
    "\t# mean absolute error\n",
    "\treturn np.abs(y_hat - y).mean()\n",
    "\n",
    "############################################################################\n",
    "\n",
    "train_x, train_y, kaggle_x   = read_data_fb()\n",
    "print('Train=', train_x.shape)\n",
    "print('Kaggle=', kaggle_x.shape)\n",
    "\n",
    "\n",
    "######### normalizing features to speed up SVM, we shouldn't normalize outputs\n",
    "\n",
    "from sklearn.preprocessing import StandardScaler\n",
    "\n",
    "train_x2=StandardScaler().fit_transform(train_x)\n",
    "kaggle_x2=StandardScaler().fit_transform(kaggle_x)"
   ]
  },
  {
   "cell_type": "code",
   "execution_count": 38,
   "metadata": {},
   "outputs": [
    {
     "name": "stdout",
     "output_type": "stream",
     "text": [
      "Fitting runtime for tree: 1.2969519399011915\n"
     ]
    }
   ],
   "source": [
    "from sklearn import tree\n",
    "mytree = tree.DecisionTreeRegressor()\n",
    "start = timeit.default_timer()\n",
    "mytree = mytree.fit(train_x,train_y)\n",
    "stop = timeit.default_timer()\n",
    "print(\"Fitting runtime for tree:\",stop - start)\n",
    "predicted_y=mytree.predict(kaggle_x)\n"
   ]
  },
  {
   "cell_type": "code",
   "execution_count": 88,
   "metadata": {},
   "outputs": [
    {
     "name": "stdout",
     "output_type": "stream",
     "text": [
      "CV runtime for tree: 10.309353844026191\n"
     ]
    }
   ],
   "source": [
    "start = timeit.default_timer()\n",
    "from sklearn.model_selection import GridSearchCV\n",
    "p_grid = {'max_depth':[3,6,9,12,15]}\n",
    "besttree = GridSearchCV(estimator=mytree, param_grid=p_grid, cv=5,return_train_score=True,scoring='neg_mean_absolute_error')\n",
    "besttree.fit(train_x,train_y)\n",
    "stop = timeit.default_timer()\n",
    "print(\"CV runtime for tree:\",stop - start)\n",
    "#besttree.cv_results_\n"
   ]
  },
  {
   "cell_type": "code",
   "execution_count": 111,
   "metadata": {},
   "outputs": [
    {
     "name": "stdout",
     "output_type": "stream",
     "text": [
      "sample errors: [ 6.36333874  5.05282361  5.0725102   5.34406325  5.38188355]\n",
      "max depth: [3, 6, 9, 12, 15]\n"
     ]
    }
   ],
   "source": [
    "print('out of sample errors:', abs(besttree.cv_results_['mean_test_score']))\n",
    "print('max depth:', [3,6,9,12,15])\n"
   ]
  },
  {
   "cell_type": "code",
   "execution_count": 99,
   "metadata": {},
   "outputs": [
    {
     "data": {
      "image/png": "[encoded data removed]",
      "text/plain": [
       "<matplotlib.figure.Figure at 0x171a6aeaa58>"
      ]
     },
     "metadata": {},
     "output_type": "display_data"
    }
   ],
   "source": [
    "import matplotlib.pyplot as plt\n",
    "treecv_runtimes=500*(besttree.cv_results_['mean_fit_time']+besttree.cv_results_['mean_score_time'])\n",
    "plt.plot([3,6,9,12,15],treecv_runtimes)\n",
    "plt.ylabel('Cross Validation Runtime (ms)')\n",
    "plt.xlabel('Maximum Debth the Tree')\n",
    "plt.show()"
   ]
  },
  {
   "cell_type": "code",
   "execution_count": 123,
   "metadata": {},
   "outputs": [
    {
     "name": "stdout",
     "output_type": "stream",
     "text": [
      "Error from CV: 5.05282360893\n"
     ]
    }
   ],
   "source": [
    "print('Error from CV:',(besttree.cv_results_['mean_test_score'].max())*(-1))"
   ]
  },
  {
   "cell_type": "code",
   "execution_count": 124,
   "metadata": {},
   "outputs": [
    {
     "name": "stdout",
     "output_type": "stream",
     "text": [
      "Writing output to  ../Predictions/best.csv\n",
      "Done with writing.\n"
     ]
    }
   ],
   "source": [
    "predicted_y=besttree.predict(kaggle_x)\n",
    "file_name = '../Predictions/best.csv'\n",
    "# Writing output in Kaggle format\n",
    "print('Writing output to ', file_name)\n",
    "kaggle.kaggleize(predicted_y, file_name)\n",
    "print('Done with writing.')"
   ]
  },
  {
   "cell_type": "code",
   "execution_count": 146,
   "metadata": {},
   "outputs": [
    {
     "name": "stdout",
     "output_type": "stream",
     "text": [
      "Done with CV on KNN\n"
     ]
    }
   ],
   "source": [
    "from sklearn import neighbors\n",
    "myknn = neighbors.KNeighborsRegressor()\n",
    "p_grid = {'n_neighbors':[3,5,10,20,25]}\n",
    "bestknn = GridSearchCV(estimator=myknn, param_grid=p_grid, cv=5,return_train_score=True,scoring='neg_mean_absolute_error')\n",
    "bestknn.fit(train_x,train_y)\n",
    "print(\"Done with CV on KNN\")"
   ]
  },
  {
   "cell_type": "code",
   "execution_count": 133,
   "metadata": {},
   "outputs": [
    {
     "name": "stdout",
     "output_type": "stream",
     "text": [
      "out of sample errors: [ 6.90554181  6.79133238  7.00135778  7.29865525  7.43505861]\n",
      "number of neighbors: [3, 5, 10, 20, 25]\n",
      "The number of neighbors of the best KNN: {'n_neighbors': 5}\n",
      "Writing output to  ../Predictions/best.csv\n",
      "Done with writing.\n"
     ]
    }
   ],
   "source": [
    "print('out of sample errors:', abs(bestknn.cv_results_['mean_test_score']))\n",
    "print('number of neighbors:', [3,5,10,20,25])\n",
    "print('The number of neighbors of the best KNN:', bestknn.best_params_)\n",
    "predicted_y=bestknn.predict(kaggle_x)\n",
    "file_name = '../Predictions/best.csv'\n",
    "# Writing output in Kaggle format\n",
    "print('Writing output to ', file_name)\n",
    "kaggle.kaggleize(predicted_y, file_name)\n",
    "print('Done with writing.')"
   ]
  },
  {
   "cell_type": "code",
   "execution_count": 134,
   "metadata": {},
   "outputs": [
    {
     "data": {
      "text/plain": [
       "{'mean_fit_time': array([ 0.15042486,  0.13056006,  0.13136663,  0.13135128,  0.13096662]),\n",
       " 'mean_score_time': array([ 0.23521953,  0.24785938,  0.26189528,  0.29698849,  0.31903009]),\n",
       " 'mean_test_score': array([-6.90554181, -6.79133238, -7.00135778, -7.29865525, -7.43505861]),\n",
       " 'mean_train_score': array([-4.69694361, -5.48778371, -6.23814213, -6.89340392, -7.11691139]),\n",
       " 'param_n_neighbors': masked_array(data = [3 5 10 20 25],\n",
       "              mask = [False False False False False],\n",
       "        fill_value = ?),\n",
       " 'params': [{'n_neighbors': 3},\n",
       "  {'n_neighbors': 5},\n",
       "  {'n_neighbors': 10},\n",
       "  {'n_neighbors': 20},\n",
       "  {'n_neighbors': 25}],\n",
       " 'rank_test_score': array([2, 1, 3, 4, 5]),\n",
       " 'split0_test_score': array([-6.84063161, -6.60683705, -6.73099463, -7.10052906, -7.16281296]),\n",
       " 'split0_train_score': array([-4.63679162, -5.55115796, -6.30957711, -6.93950303, -7.15303513]),\n",
       " 'split1_test_score': array([-7.51560041, -7.44317109, -7.73604102, -7.91150903, -8.0738727 ]),\n",
       " 'split1_train_score': array([-4.55249841, -5.27708087, -6.0514388 , -6.68179006, -6.93153975]),\n",
       " 'split2_test_score': array([-6.37713014, -6.40582872, -6.6483393 , -6.89500163, -6.97618365]),\n",
       " 'split2_train_score': array([-4.763682  , -5.5819536 , -6.37716728, -7.02709198, -7.23055759]),\n",
       " 'split3_test_score': array([-7.19136003, -7.01790948, -7.30952458, -7.79273038, -8.02102898]),\n",
       " 'split3_train_score': array([-4.64730701, -5.39461131, -6.09750102, -6.74278999, -6.96174196]),\n",
       " 'split4_test_score': array([-6.60289808, -6.48283947, -6.58181374, -6.79343862, -6.94133507]),\n",
       " 'split4_train_score': array([-4.88443902, -5.63411477, -6.35502646, -7.07584453, -7.30768254]),\n",
       " 'std_fit_time': array([ 0.03810735,  0.00183774,  0.00090342,  0.00141848,  0.00258526]),\n",
       " 'std_score_time': array([ 0.00301117,  0.00497316,  0.00278883,  0.00589443,  0.01046024]),\n",
       " 'std_test_score': array([ 0.40715999,  0.38834932,  0.4491093 ,  0.46414038,  0.50594204]),\n",
       " 'std_train_score': array([ 0.11537332,  0.13219215,  0.1361844 ,  0.15540089,  0.14768494])}"
      ]
     },
     "execution_count": 134,
     "metadata": {},
     "output_type": "execute_result"
    }
   ],
   "source": [
    "bestknn.cv_results_\n"
   ]
  },
  {
   "cell_type": "code",
   "execution_count": 137,
   "metadata": {},
   "outputs": [
    {
     "name": "stdout",
     "output_type": "stream",
     "text": [
      "Writing output to  ../Predictions/best.csv\n",
      "Done with writing.\n"
     ]
    }
   ],
   "source": [
    "###### KNN with Manhattan Distance\n",
    "\n",
    "myknn2 = neighbors.KNeighborsRegressor(n_neighbors=5,metric='manhattan')\n",
    "myknn2.fit(train_x,train_y)\n",
    "predicted_y=myknn2.predict(kaggle_x)\n",
    "file_name = '../Predictions/best.csv'\n",
    "# Writing output in Kaggle format\n",
    "print('Writing output to ', file_name)\n",
    "kaggle.kaggleize(predicted_y, file_name)\n",
    "print('Done with writing.')\n"
   ]
  },
  {
   "cell_type": "code",
   "execution_count": 138,
   "metadata": {},
   "outputs": [
    {
     "name": "stdout",
     "output_type": "stream",
     "text": [
      "Writing output to  ../Predictions/best.csv\n",
      "Done with writing.\n"
     ]
    }
   ],
   "source": [
    "###### KNN with Chebyshev Distance\n",
    "\n",
    "myknn3 = neighbors.KNeighborsRegressor(n_neighbors=5,metric='chebyshev')\n",
    "myknn3.fit(train_x,train_y)\n",
    "predicted_y=myknn3.predict(kaggle_x)\n",
    "file_name = '../Predictions/best.csv'\n",
    "# Writing output in Kaggle format\n",
    "print('Writing output to ', file_name)\n",
    "kaggle.kaggleize(predicted_y, file_name)\n",
    "print('Done with writing.')\n"
   ]
  },
  {
   "cell_type": "code",
   "execution_count": 5,
   "metadata": {},
   "outputs": [
    {
     "name": "stdout",
     "output_type": "stream",
     "text": [
      "Done with CV on Rdige\n",
      "{'alpha': 10}\n",
      "out of sample errors: [ 8.66898955  8.66898727  8.66876014  8.65697953  8.63469713]\n",
      "alpha: [1e-06, 0.0001, 0.01, 1, 10]\n"
     ]
    }
   ],
   "source": [
    "########### Ridge \n",
    "\n",
    "from sklearn import linear_model\n",
    "from sklearn.model_selection import GridSearchCV\n",
    "\n",
    "myridge = linear_model.Ridge()\n",
    "p_grid = {'alpha':[1e-6,1e-4,1e-2,1,10]}\n",
    "bestridge = GridSearchCV(estimator=myridge, param_grid=p_grid, cv=5,return_train_score=True,scoring='neg_mean_absolute_error')\n",
    "bestridge.fit(train_x2,train_y)\n",
    "print(\"Done with CV on Rdige\")\n",
    "#print(bestridge.cv_results_)\n",
    "print(bestridge.best_params_)\n",
    "print('out of sample errors:', abs(bestridge.cv_results_['mean_test_score']))\n",
    "print('alpha:', [0.000001,0.0001,0.01,1,10])\n"
   ]
  },
  {
   "cell_type": "code",
   "execution_count": 10,
   "metadata": {},
   "outputs": [
    {
     "name": "stdout",
     "output_type": "stream",
     "text": [
      "Done with CV on Lasso\n",
      "{'alpha': 10}\n",
      "out of sample errors: [ 9.61319133  9.61306225  9.6000836   8.90479547  8.53384472]\n",
      "alpha: [1e-06, 0.0001, 0.01, 1, 10]\n"
     ]
    }
   ],
   "source": [
    "########## Lasso\n",
    "from sklearn.model_selection import GridSearchCV\n",
    "from sklearn import linear_model\n",
    "mylasso = linear_model.Lasso(tol=1)\n",
    "p_grid = {'alpha':[1e-6,1e-4,1e-2,1,10]}\n",
    "bestlasso = GridSearchCV(estimator=mylasso, param_grid=p_grid, cv=5,return_train_score=True,scoring='neg_mean_absolute_error')\n",
    "bestlasso.fit(train_x2,train_y)\n",
    "print(\"Done with CV on Lasso\")\n",
    "#print(bestridge.cv_results_)\n",
    "print(bestlasso.best_params_)\n",
    "print('out of sample errors:', abs(bestlasso.cv_results_['mean_test_score']))\n",
    "print('alpha:', [0.000001,0.0001,0.01,1,10])\n"
   ]
  },
  {
   "cell_type": "code",
   "execution_count": 11,
   "metadata": {},
   "outputs": [
    {
     "name": "stdout",
     "output_type": "stream",
     "text": [
      "Writing output to  ../Predictions/bestlasso.csv\n",
      "Done with writing.\n"
     ]
    }
   ],
   "source": [
    "########## Best Lasso For Kaggle\n",
    "mylasso2 = linear_model.Lasso(alpha=10,tol=1)\n",
    "mylasso2.fit(train_x2,train_y)\n",
    "predicted_y=mylasso2.predict(kaggle_x2)\n",
    "file_name = '../Predictions/bestlasso.csv'\n",
    "# Writing output in Kaggle format\n",
    "print('Writing output to ', file_name)\n",
    "kaggle.kaggleize(predicted_y, file_name)\n",
    "print('Done with writing.')"
   ]
  },
  {
   "cell_type": "code",
   "execution_count": 172,
   "metadata": {},
   "outputs": [
    {
     "data": {
      "text/plain": [
       "array([  2.54894699e-08,  -2.97267661e-05,  -1.52957361e-05,\n",
       "         0.00000000e+00,  -0.00000000e+00,   1.96383043e-02,\n",
       "         5.12110252e-02,   1.61309657e-03,   1.38516541e-02,\n",
       "         0.00000000e+00,  -3.26194254e-05,   0.00000000e+00,\n",
       "         8.05708229e-02,   0.00000000e+00,  -0.00000000e+00,\n",
       "         1.02121583e-03,   0.00000000e+00,   2.34289738e-02,\n",
       "         0.00000000e+00,  -0.00000000e+00,  -2.07449873e-02,\n",
       "         0.00000000e+00,   0.00000000e+00,   0.00000000e+00,\n",
       "         4.87670974e-04,  -6.97186393e-04,  -0.00000000e+00,\n",
       "        -0.00000000e+00,  -0.00000000e+00,  -0.00000000e+00,\n",
       "         1.95155541e-01,   0.00000000e+00,  -1.81242148e-02,\n",
       "         2.59046543e-02,  -1.73968805e-01,  -1.04541524e-04,\n",
       "         2.38462876e-03,   0.00000000e+00,   0.00000000e+00,\n",
       "         0.00000000e+00,   0.00000000e+00,  -0.00000000e+00,\n",
       "         0.00000000e+00,  -0.00000000e+00,   0.00000000e+00,\n",
       "        -0.00000000e+00,  -0.00000000e+00,   0.00000000e+00,\n",
       "        -0.00000000e+00,   0.00000000e+00,  -0.00000000e+00,\n",
       "         0.00000000e+00])"
      ]
     },
     "execution_count": 172,
     "metadata": {},
     "output_type": "execute_result"
    }
   ],
   "source": [
    "mylasso2.coef_"
   ]
  },
  {
   "cell_type": "code",
   "execution_count": 189,
   "metadata": {},
   "outputs": [
    {
     "name": "stdout",
     "output_type": "stream",
     "text": [
      "we can exclude the following features: [52 30 29 28]\n"
     ]
    }
   ],
   "source": [
    "exweights_temp=np.argsort(abs(mylasso2.coef_))\n",
    "exw=exweights_temp[0:4]+1\n",
    "print('we can exclude the following features:',exw)"
   ]
  },
  {
   "cell_type": "code",
   "execution_count": null,
   "metadata": {
    "collapsed": true
   },
   "outputs": [],
   "source": [
    "argwhere(abs(mylasso2.coef_).min())"
   ]
  }
 ],
 "metadata": {
  "kernelspec": {
   "display_name": "Python 3",
   "language": "python",
   "name": "python3"
  },
  "language_info": {
   "codemirror_mode": {
    "name": "ipython",
    "version": 3
   },
   "file_extension": ".py",
   "mimetype": "text/x-python",
   "name": "python",
   "nbconvert_exporter": "python",
   "pygments_lexer": "ipython3",
   "version": "3.6.3"
  }
 },
 "nbformat": 4,
 "nbformat_minor": 2
}

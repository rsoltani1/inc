{
 "cells": [
  {
   "cell_type": "code",
   "execution_count": 10,
   "metadata": {
    "collapsed": true
   },
   "outputs": [],
   "source": [
    "######### Importing files\n",
    "\n",
    "import os\n",
    "import pandas \n",
    "import numpy\n",
    "\n",
    "from sklearn.datasets import load_svmlight_file\n",
    "\n",
    "\n",
    "data = load_svmlight_file(\"HW2.train.txt\",multilabel=True)\n",
    "data2 = load_svmlight_file(\"HW2.test.txt\",multilabel=True)\n",
    "#data3 = load_svmlight_file(\"HW2.kaggle.txt\",multilabel=True)\n",
    "\n"
   ]
  },
  {
   "cell_type": "code",
   "execution_count": 11,
   "metadata": {},
   "outputs": [
    {
     "name": "stdout",
     "output_type": "stream",
     "text": [
      "<class 'scipy.sparse.csr.csr_matrix'>\n",
      "(13500, 124)\n",
      "<class 'list'>\n",
      "13500\n"
     ]
    }
   ],
   "source": [
    "######### Converting files to vectors\n",
    "print(type(data[0]))\n",
    "print(data[0].shape)\n",
    "print(type(data[1]))\n",
    "print(len(data[1]))\n",
    "Features_Train=data[0].todense()\n",
    "Features_Test=data2[0].todense()\n",
    "import numpy as np\n",
    "Class_Train= np.asarray(data[1])\n",
    "Class_Test= np.asarray(data2[1])"
   ]
  },
  {
   "cell_type": "code",
   "execution_count": 68,
   "metadata": {},
   "outputs": [],
   "source": [
    "Features_merge=np.concatenate((Features_Train, Features_Test), axis=0)\n",
    "Class_merge=np.concatenate((Class_Train, Class_Test), axis=0)\n"
   ]
  },
  {
   "cell_type": "code",
   "execution_count": 6,
   "metadata": {
    "collapsed": true
   },
   "outputs": [],
   "source": [
    "###### Using Classification tree\n",
    "from sklearn import tree\n",
    "clf = tree.DecisionTreeClassifier()\n",
    "clf = clf.fit(Features_Train,Class_Train)"
   ]
  },
  {
   "cell_type": "code",
   "execution_count": 15,
   "metadata": {
    "collapsed": true
   },
   "outputs": [],
   "source": [
    "#import sys\n",
    "#!conda install --yes --prefix {sys.prefix} graphviz\n",
    "#import graphviz \n",
    "#dot_data = tree.export_graphviz(clf, out_file=None, \n",
    "#                         feature_names=df_mean[features].columns,  \n",
    "#                         class_names=clf.classes_,  \n",
    "#                         filled=True, rounded=True,  \n",
    "#                         special_characters=True)\n",
    "#graph = graphviz.Source(dot_data)\n",
    "#graph.render('tree')\n",
    "#graph"
   ]
  },
  {
   "cell_type": "code",
   "execution_count": 111,
   "metadata": {
    "collapsed": true
   },
   "outputs": [],
   "source": [
    "#clf.get_params()"
   ]
  },
  {
   "cell_type": "code",
   "execution_count": 112,
   "metadata": {},
   "outputs": [
    {
     "data": {
      "text/plain": [
       "LogisticRegression(C=1.0, class_weight=None, dual=False, fit_intercept=True,\n",
       "          intercept_scaling=1, max_iter=100, multi_class='ovr', n_jobs=1,\n",
       "          penalty='l2', random_state=None, solver='liblinear', tol=0.0001,\n",
       "          verbose=0, warm_start=False)"
      ]
     },
     "execution_count": 112,
     "metadata": {},
     "output_type": "execute_result"
    }
   ],
   "source": [
    "######## Using logistic regression\n",
    "from sklearn.linear_model import LogisticRegression\n",
    "\n",
    "mylr = LogisticRegression()\n",
    "mylr.fit(Features_Train,Class_Train.ravel())\n"
   ]
  },
  {
   "cell_type": "code",
   "execution_count": 113,
   "metadata": {
    "collapsed": true
   },
   "outputs": [],
   "source": [
    "###########importing Naive bayes\n",
    "from sklearn.naive_bayes import GaussianNB\n",
    "gnb = GaussianNB()"
   ]
  },
  {
   "cell_type": "code",
   "execution_count": 7,
   "metadata": {
    "collapsed": true
   },
   "outputs": [],
   "source": [
    "############## Importing Neura Networks\n",
    "from sklearn.neural_network import MLPClassifier\n",
    "nclf = MLPClassifier()\n",
    "nclf.fit(Features_Train,Class_Train.ravel()) \n",
    "nerual_pred=nclf.predict(Features_Test)\n"
   ]
  },
  {
   "cell_type": "code",
   "execution_count": 12,
   "metadata": {},
   "outputs": [],
   "source": [
    "########### Performing Cross Validation\n",
    "\n",
    "#### Best example for nested and non-nested corss validation:\n",
    "####http://scikit-learn.org/stable/auto_examples/model_selection/plot_nested_cross_validation_iris.html#sphx-glr-auto-examples-model-selection-plot-nested-cross-validation-iris-py\n",
    "    \n",
    "from sklearn.model_selection import cross_val_score\n",
    "scores = cross_val_score(nclf, Features_Train, Class_Train.ravel(), cv=10)"
   ]
  },
  {
   "cell_type": "code",
   "execution_count": 14,
   "metadata": {},
   "outputs": [
    {
     "name": "stdout",
     "output_type": "stream",
     "text": [
      "0.880869565217\n"
     ]
    }
   ],
   "source": [
    "############ Using Random Forest\n",
    "from sklearn.metrics import accuracy_score\n",
    "from sklearn.ensemble import RandomForestClassifier\n",
    "clf_rf = RandomForestClassifier()\n",
    "clf_rf.fit(Features_Train, Class_Train.ravel())\n",
    "rfp=clf_rf.predict(Features_Test)\n",
    "rfac=accuracy_score(rfp, Class_Test.ravel())\n",
    "print(rfac)\n"
   ]
  },
  {
   "cell_type": "code",
   "execution_count": 132,
   "metadata": {},
   "outputs": [
    {
     "name": "stdout",
     "output_type": "stream",
     "text": [
      "0.903304347826\n"
     ]
    }
   ],
   "source": [
    "########### Perform Corss Correlation for paramter selection\n",
    "from sklearn.model_selection import GridSearchCV\n",
    "\n",
    "p_grid = {'n_estimators': [20, 30],'max_features': ['auto', 'sqrt', 'log2'], 'criterion': ['gini','entropy']}\n",
    "bestrf = GridSearchCV(estimator=clf_rf, param_grid=p_grid, cv=5)\n",
    "bestrf.fit(Features_Train, Class_Train.ravel())\n",
    "rfp2=bestrf.predict(Features_Test)\n",
    "rfac2=accuracy_score(rfp2, Class_Test.ravel())\n",
    "print(rfac2)\n",
    "\n"
   ]
  },
  {
   "cell_type": "code",
   "execution_count": 71,
   "metadata": {},
   "outputs": [
    {
     "data": {
      "text/plain": [
       "4"
      ]
     },
     "execution_count": 71,
     "metadata": {},
     "output_type": "execute_result"
    }
   ],
   "source": [
    "########### Perform Corss Correlation for paramter selection\n",
    "from sklearn.model_selection import GridSearchCV\n",
    "p_grid = {'n_estimators': [],'max_depth':[30, 50, 70, None]}\n",
    "bestrf10 = GridSearchCV(estimator=clf_rf, param_grid=p_grid, cv=5,return_train_score=True)\n",
    "bestrf10.fit(Features_merge, Class_merge.ravel())\n",
    "bestrf10.best_estimator_\n",
    "2+2"
   ]
  },
  {
   "cell_type": "code",
   "execution_count": 72,
   "metadata": {},
   "outputs": [
    {
     "data": {
      "text/plain": [
       "RandomForestClassifier(bootstrap=True, class_weight=None, criterion='gini',\n",
       "            max_depth=30, max_features='auto', max_leaf_nodes=None,\n",
       "            min_impurity_decrease=0.0, min_impurity_split=None,\n",
       "            min_samples_leaf=1, min_samples_split=2,\n",
       "            min_weight_fraction_leaf=0.0, n_estimators=200, n_jobs=1,\n",
       "            oob_score=False, random_state=None, verbose=0,\n",
       "            warm_start=False)"
      ]
     },
     "execution_count": 72,
     "metadata": {},
     "output_type": "execute_result"
    }
   ],
   "source": [
    "bestrf10.best_estimator_"
   ]
  },
  {
   "cell_type": "code",
   "execution_count": 36,
   "metadata": {},
   "outputs": [
    {
     "data": {
      "text/plain": [
       "RandomForestClassifier(bootstrap=True, class_weight=None, criterion='gini',\n",
       "            max_depth=30, max_features='auto', max_leaf_nodes=None,\n",
       "            min_impurity_decrease=0.0, min_impurity_split=None,\n",
       "            min_samples_leaf=1, min_samples_split=2,\n",
       "            min_weight_fraction_leaf=0.0, n_estimators=100, n_jobs=1,\n",
       "            oob_score=False, random_state=None, verbose=0,\n",
       "            warm_start=False)"
      ]
     },
     "execution_count": 36,
     "metadata": {},
     "output_type": "execute_result"
    }
   ],
   "source": [
    "bestrf.best_estimator_"
   ]
  },
  {
   "cell_type": "code",
   "execution_count": 20,
   "metadata": {},
   "outputs": [
    {
     "name": "stdout",
     "output_type": "stream",
     "text": [
      "0.842608695652\n"
     ]
    },
    {
     "data": {
      "text/plain": [
       "RandomForestClassifier(bootstrap=True, class_weight=None, criterion='gini',\n",
       "            max_depth=4, max_features='auto', max_leaf_nodes=None,\n",
       "            min_impurity_decrease=0.0, min_impurity_split=None,\n",
       "            min_samples_leaf=1, min_samples_split=2,\n",
       "            min_weight_fraction_leaf=0.0, n_estimators=20, n_jobs=1,\n",
       "            oob_score=False, random_state=None, verbose=0,\n",
       "            warm_start=False)"
      ]
     },
     "execution_count": 20,
     "metadata": {},
     "output_type": "execute_result"
    }
   ],
   "source": [
    "########### Perform Corss Correlation for paramter selection\n",
    "from sklearn.model_selection import GridSearchCV\n",
    "p_grid = {'n_estimators': [10, 20],'max_depth':[2, 4]}\n",
    "bestrf = GridSearchCV(estimator=clf_rf, param_grid=p_grid, cv=5,return_train_score=True)\n",
    "bestrf.fit(Features_Train, Class_Train.ravel())\n",
    "rfp2=bestrf.predict(Features_Test)\n",
    "rfac2=accuracy_score(rfp2, Class_Test.ravel())\n",
    "print(rfac2)\n",
    "bestrf.best_estimator_\n"
   ]
  },
  {
   "cell_type": "code",
   "execution_count": 21,
   "metadata": {},
   "outputs": [
    {
     "data": {
      "text/plain": [
       "{'mean_fit_time': array([ 0.20151691,  0.37755647,  0.33312092,  0.65442591]),\n",
       " 'mean_score_time': array([ 0.0031239 ,  0.00593238,  0.00625625,  0.01271167]),\n",
       " 'mean_test_score': array([ 0.79348148,  0.78992593,  0.83977778,  0.842     ]),\n",
       " 'mean_train_score': array([ 0.7969608 ,  0.79564771,  0.84801838,  0.85077775]),\n",
       " 'param_max_depth': masked_array(data = [2 2 4 4],\n",
       "              mask = [False False False False],\n",
       "        fill_value = ?),\n",
       " 'param_n_estimators': masked_array(data = [10 20 10 20],\n",
       "              mask = [False False False False],\n",
       "        fill_value = ?),\n",
       " 'params': [{'max_depth': 2, 'n_estimators': 10},\n",
       "  {'max_depth': 2, 'n_estimators': 20},\n",
       "  {'max_depth': 4, 'n_estimators': 10},\n",
       "  {'max_depth': 4, 'n_estimators': 20}],\n",
       " 'rank_test_score': array([3, 4, 2, 1]),\n",
       " 'split0_test_score': array([ 0.78563495,  0.78637542,  0.84005924,  0.8385783 ]),\n",
       " 'split0_train_score': array([ 0.78785073,  0.78785073,  0.85396796,  0.84804149]),\n",
       " 'split1_test_score': array([ 0.74564976,  0.79748241,  0.84154017,  0.84931507]),\n",
       " 'split1_train_score': array([ 0.74192055,  0.79294379,  0.83868877,  0.84961571]),\n",
       " 'split2_test_score': array([ 0.8037037 ,  0.79777778,  0.84888889,  0.84407407]),\n",
       " 'split2_train_score': array([ 0.80824074,  0.79296296,  0.84731481,  0.85731481]),\n",
       " 'split3_test_score': array([ 0.8095591 ,  0.76065209,  0.84031123,  0.82549092]),\n",
       " 'split3_train_score': array([ 0.8227016 ,  0.78631608,  0.85880937,  0.84751412]),\n",
       " 'split4_test_score': array([ 0.82289737,  0.80733605,  0.82808448,  0.85253798]),\n",
       " 'split4_train_score': array([ 0.82409036,  0.81816498,  0.84131099,  0.85140265]),\n",
       " 'std_fit_time': array([ 0.01670588,  0.00732529,  0.00504291,  0.00202298]),\n",
       " 'std_score_time': array([ 0.00624781,  0.00577402,  0.00766231,  0.00637051]),\n",
       " 'std_test_score': array([ 0.02675135,  0.01606875,  0.00668081,  0.00951841]),\n",
       " 'std_train_score': array([ 0.03045739,  0.01157082,  0.00754147,  0.00353871])}"
      ]
     },
     "execution_count": 21,
     "metadata": {},
     "output_type": "execute_result"
    }
   ],
   "source": [
    "bestrf.cv_results_"
   ]
  },
  {
   "cell_type": "code",
   "execution_count": 32,
   "metadata": {},
   "outputs": [
    {
     "data": {
      "text/plain": [
       "4"
      ]
     },
     "execution_count": 32,
     "metadata": {},
     "output_type": "execute_result"
    }
   ],
   "source": [
    "2+2"
   ]
  },
  {
   "cell_type": "code",
   "execution_count": null,
   "metadata": {
    "collapsed": true
   },
   "outputs": [],
   "source": []
  }
 ],
 "metadata": {
  "kernelspec": {
   "display_name": "Python 3",
   "language": "python",
   "name": "python3"
  },
  "language_info": {
   "codemirror_mode": {
    "name": "ipython",
    "version": 3
   },
   "file_extension": ".py",
   "mimetype": "text/x-python",
   "name": "python",
   "nbconvert_exporter": "python",
   "pygments_lexer": "ipython3",
   "version": "3.6.3"
  }
 },
 "nbformat": 4,
 "nbformat_minor": 2
}
